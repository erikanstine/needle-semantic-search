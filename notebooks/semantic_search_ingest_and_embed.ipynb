{
 "cells": [
  {
   "cell_type": "code",
   "execution_count": 45,
   "id": "44034307-5f40-461a-9e14-951d7af2dadf",
   "metadata": {},
   "outputs": [],
   "source": [
    "import os\n",
    "from openai import OpenAI\n",
    "from pinecone import Pinecone, ServerlessSpec\n",
    "from dotenv import load_dotenv\n",
    "import requests\n",
    "from bs4 import BeautifulSoup\n",
    "\n",
    "load_dotenv()\n",
    "client = OpenAI()\n",
    "pc = Pinecone(api_key=os.getenv('PINECONE_DEFAULT_API_KEY'))"
   ]
  },
  {
   "cell_type": "code",
   "execution_count": 22,
   "id": "bf505dfc-9c2d-4d22-a5dc-b893a87224dd",
   "metadata": {},
   "outputs": [],
   "source": [
    "def extract_text(url):\n",
    "    res = requests.get(url)\n",
    "    soup = BeautifulSoup(res.text, 'html.parser')\n",
    "    div = soup.find('div', class_=\"article-body\")\n",
    "    eles = div.find('h2', string='Prepared Remarks:').find_next_siblings(\"p\")\n",
    "    full_text = ' '.join([e.text for e in eles])\n",
    "    return full_text"
   ]
  },
  {
   "cell_type": "code",
   "execution_count": 23,
   "id": "5cf0cb5f-b6cf-4b29-b1b9-66b0ecf7aede",
   "metadata": {},
   "outputs": [],
   "source": [
    "t = extract_text('https://www.fool.com/earnings/call-transcripts/2025/01/30/apple-aapl-q1-2025-earnings-call-transcript/')"
   ]
  },
  {
   "cell_type": "code",
   "execution_count": 26,
   "id": "94c3134a-12eb-4bea-96c1-6d6cf9a06cb7",
   "metadata": {},
   "outputs": [],
   "source": [
    "def chunk_text(text, chunk_size=500):\n",
    "    words = text.split()\n",
    "    chunks = []\n",
    "    for i in range(0, len(words := text.split()), chunk_size):\n",
    "        chunk =  ' '.join(words[i:i+chunk_size])\n",
    "        chunks.append(chunk)\n",
    "    return chunks\n",
    "\n",
    "chunks = chunk_text(t)"
   ]
  },
  {
   "cell_type": "code",
   "execution_count": 28,
   "id": "0746ef7e-8d1b-47e4-93d2-b15a87851006",
   "metadata": {},
   "outputs": [
    {
     "name": "stdout",
     "output_type": "stream",
     "text": [
      "17\n"
     ]
    },
    {
     "data": {
      "text/plain": [
       "\"Suhasini Chandramouli -- Director, Investor Relations Good afternoon, and welcome to the Apple Q1 fiscal year 2025 earnings conference call. My name is Suhasini Chandramouli, Director of investor relations. Today's call is being recorded. Speaking first today are Apple CEO, Tim Cook; and he'll be followed by CFO, Kevan Parekh. After that, we'll open the call to questions from analysts. Please note that some of the information you'll hear during our discussion today will consist of forward-looking statements, including, without limitation, those regarding revenue, gross margin, operating expenses, other income and expense, taxes, capital allocation, and future business outlook, including the potential impact of macroeconomic conditions on the company's business and results of operations. These statements involve risks and uncertainties that may cause actual results or trends to differ materially from our forecast. For more information, please refer to the risk factors discussed in Apple's most recently filed annual report on Form 10-K and the Form 8-K filed with the SEC today, along with the associated press release. Apple assumes no obligation to update any forward-looking statements, which speak only as of the date they are made. I'd now like to turn the call over to Tim for introductory remarks. Timothy Donald Cook -- Chief Executive Officer Thank you, Suhasini. Good afternoon, everyone, and thanks for joining the call. Before I talk about our results, I'd like to take a moment to acknowledge the devastating wildfires that impacted the Los Angeles area this month. From our retail teams to Apple TV+, Apple Music, Fitness+, Beats, and more, L.A. is home to many of our team members. Our thoughts are with everyone who is beginning the road to recovery. For our part, we are contributing to the relief efforts, and we will continue to support our teams and the local community. Now, turning to the quarter. Today, Apple is reporting revenue of $124.3 billion for the December quarter, up 4% from a year ago and an all-time record. EPS also set an all-time record of $2.40, 10% higher year over year. We achieved all-time revenue records across the majority of the countries and regions we track, including the Americas, Europe, Japan, and the rest of Asia Pacific. We also continue to see momentum in emerging markets, setting all-time revenue records in a number of markets, including Latin America, the Middle East, and South Asia, among others. In services, we achieved an all-time revenue record. And in the past year, we've seen nearly $100 billion in revenue from our services business. I'm also pleased to announce that we reached a new record for our install base with over 2.35 billion active devices. In October, we released the first set of Apple Intelligence features in U.S. English for iPhone, iPad, and Mac, and we rolled out more features and expanded to more countries in December. Now, users can discover the benefits of these new features in the things they do every day. They can use Writing Tools to help find just the right\""
      ]
     },
     "execution_count": 28,
     "metadata": {},
     "output_type": "execute_result"
    }
   ],
   "source": [
    "print(len(chunks))\n",
    "chunks[0]"
   ]
  },
  {
   "cell_type": "code",
   "execution_count": 32,
   "id": "b673ecb5-d2da-4fac-87a3-1ecbc23fadb2",
   "metadata": {},
   "outputs": [],
   "source": [
    "def get_embedding(text):\n",
    "    response = client.embeddings.create(\n",
    "        input=text,\n",
    "        model=\"text-embedding-3-small\"\n",
    "    )\n",
    "    return response.data[0].embedding"
   ]
  },
  {
   "cell_type": "code",
   "execution_count": 33,
   "id": "48aa6790-c285-418b-8630-72de7a3cec88",
   "metadata": {},
   "outputs": [
    {
     "name": "stdout",
     "output_type": "stream",
     "text": [
      "Embedding length: 1536\n"
     ]
    }
   ],
   "source": [
    "embedding = get_embedding(chunks[0])\n",
    "print(f\"Embedding length: {len(embedding)}\")"
   ]
  },
  {
   "cell_type": "code",
   "execution_count": 46,
   "id": "0b6a6c3c-ae4f-4eca-b5c4-c5b7ca638875",
   "metadata": {},
   "outputs": [],
   "source": [
    "# Create pinecone index if it doesn't exist\n",
    "index_name = 'needle-earnings-transcripts'\n",
    "if not pc.has_index(index_name):\n",
    "    print(\"Index not found, creating new\")\n",
    "    pc.create_index(\n",
    "        name=index_name,\n",
    "        vector_type=\"dense\",\n",
    "        dimension=1536,\n",
    "        metric=\"cosine\",\n",
    "        spec=ServerlessSpec(\n",
    "            cloud=\"aws\",\n",
    "            region=\"us-east-1\"\n",
    "        ),\n",
    "        deletion_protection=\"disabled\",\n",
    "        tags={\n",
    "            \"environment\": \"development\"\n",
    "        }\n",
    "    )\n",
    "index = pc.Index(host=\"https://needle-earnings-transcripts-e38g0na.svc.aped-4627-b74a.pinecone.io\")"
   ]
  },
  {
   "cell_type": "code",
   "execution_count": 38,
   "id": "73a1f937-1c92-4b69-bc39-7d63462abcee",
   "metadata": {},
   "outputs": [
    {
     "data": {
      "text/plain": [
       "{'upserted_count': 1}"
      ]
     },
     "execution_count": 38,
     "metadata": {},
     "output_type": "execute_result"
    }
   ],
   "source": [
    "metadata = {\n",
    "    \"company\": \"Apple\",\n",
    "    \"year\": 2025,\n",
    "    \"quarter\": 1,\n",
    "    \"document\": \"Earnings Transcript\",\n",
    "    \"url\": 'https://www.fool.com/earnings/call-transcripts/2025/01/30/apple-aapl-q1-2025-earnings-call-transcript/',\n",
    "    \"snippet\": chunks[0][:200]\n",
    "}\n",
    "index.upsert([\n",
    "    (\"apple-earnings-transcript-Q1-chunk-0\", embedding, metadata)\n",
    "])"
   ]
  },
  {
   "cell_type": "code",
   "execution_count": 40,
   "id": "238283a2-996d-4a9b-aa9c-288fcca05d94",
   "metadata": {},
   "outputs": [],
   "source": [
    "# TODO: dynamic metadata\n",
    "def embed_and_upsert(chunks, index):\n",
    "    for i, c in enumerate(chunks, 1):\n",
    "        metadata = {\n",
    "            \"company\": \"Apple\",\n",
    "            \"year\": 2025,\n",
    "            \"quarter\": 1,\n",
    "            \"document\": \"Earnings Transcript\",\n",
    "            \"url\": 'https://www.fool.com/earnings/call-transcripts/2025/01/30/apple-aapl-q1-2025-earnings-call-transcript/',\n",
    "            \"snippet\": c[:200]\n",
    "        }\n",
    "        embedding = get_embedding(c)\n",
    "        index.upsert([\n",
    "            (f\"apple-earnings-transcript-Q1-chunk-{i}\", embedding, metadata)\n",
    "        ])\n",
    "\n",
    "embed_and_upsert(chunks[1:], index)\n"
   ]
  },
  {
   "cell_type": "code",
   "execution_count": 44,
   "id": "713e83e2-7117-4327-9920-5a6529c29f15",
   "metadata": {},
   "outputs": [
    {
     "name": "stdout",
     "output_type": "stream",
     "text": [
      "{'matches': [{'id': 'apple-earnings-transcript-Q1-chunk-10',\n",
      "              'metadata': {'company': 'Apple',\n",
      "                           'document': 'Earnings Transcript',\n",
      "                           'quarter': 1.0,\n",
      "                           'snippet': 'margins flattish on a sequential basis. '\n",
      "                                      'Typically, I think it tends to be '\n",
      "                                      'guided up a little bit, 50 basis '\n",
      "                                      'points, so sequentially. Can we just '\n",
      "                                      'touch on what are the offsets of the '\n",
      "                                      'puts and takes you ',\n",
      "                           'url': 'https://www.fool.com/earnings/call-transcripts/2025/01/30/apple-aapl-q1-2025-earnings-call-transcript/',\n",
      "                           'year': 2025.0},\n",
      "              'score': 0.28052029,\n",
      "              'values': []},\n",
      "             {'id': 'apple-earnings-transcript-Q1-chunk-5',\n",
      "              'metadata': {'company': 'Apple',\n",
      "                           'document': 'Earnings Transcript',\n",
      "                           'quarter': 1.0,\n",
      "                           'snippet': 'to the product. Customer satisfaction '\n",
      "                                      'for watch in the U.S. was reported at '\n",
      "                                      '94%. Our services revenue reached an '\n",
      "                                      'all-time high of $26.3 billion, up 14% '\n",
      "                                      'year over year. Services continues to '\n",
      "                                      'see strong',\n",
      "                           'url': 'https://www.fool.com/earnings/call-transcripts/2025/01/30/apple-aapl-q1-2025-earnings-call-transcript/',\n",
      "                           'year': 2025.0},\n",
      "              'score': 0.19461295,\n",
      "              'values': []},\n",
      "             {'id': 'apple-earnings-transcript-Q1-chunk-7',\n",
      "              'metadata': {'company': 'Apple',\n",
      "                           'document': 'Earnings Transcript',\n",
      "                           'quarter': 1.0,\n",
      "                           'snippet': 'for Western technology brands in favor '\n",
      "                                      'of domestic vendors, or is this just a '\n",
      "                                      'function of not necessarily having '\n",
      "                                      'Apple Intelligence available with the '\n",
      "                                      'iPhone 16, which is, you know, not '\n",
      "                                      'necessarily he',\n",
      "                           'url': 'https://www.fool.com/earnings/call-transcripts/2025/01/30/apple-aapl-q1-2025-earnings-call-transcript/',\n",
      "                           'year': 2025.0},\n",
      "              'score': 0.193917572,\n",
      "              'values': []}],\n",
      " 'namespace': '',\n",
      " 'usage': {'read_units': 6}}\n"
     ]
    }
   ],
   "source": [
    "query = \"risks related to supply chain\"\n",
    "query_embedding = get_embedding(query)\n",
    "\n",
    "result = index.query(\n",
    "    vector=query_embedding,\n",
    "    top_k=3,\n",
    "    include_metadata=True,\n",
    "    include_values=False\n",
    ")\n",
    "print(result)"
   ]
  },
  {
   "cell_type": "code",
   "execution_count": null,
   "id": "b5b0ec9c-dcf2-437a-8587-78c34fdcdeb0",
   "metadata": {},
   "outputs": [],
   "source": []
  }
 ],
 "metadata": {
  "kernelspec": {
   "display_name": "Python 3 (ipykernel)",
   "language": "python",
   "name": "python3"
  },
  "language_info": {
   "codemirror_mode": {
    "name": "ipython",
    "version": 3
   },
   "file_extension": ".py",
   "mimetype": "text/x-python",
   "name": "python",
   "nbconvert_exporter": "python",
   "pygments_lexer": "ipython3",
   "version": "3.11.10"
  }
 },
 "nbformat": 4,
 "nbformat_minor": 5
}
