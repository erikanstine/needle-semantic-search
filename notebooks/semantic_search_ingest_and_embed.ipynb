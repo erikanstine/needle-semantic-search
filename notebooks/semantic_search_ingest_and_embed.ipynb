{
 "cells": [
  {
   "cell_type": "code",
   "execution_count": 49,
   "id": "44034307-5f40-461a-9e14-951d7af2dadf",
   "metadata": {},
   "outputs": [],
   "source": [
    "import os\n",
    "import re\n",
    "from openai import OpenAI\n",
    "from pinecone import Pinecone, ServerlessSpec\n",
    "from datetime import datetime\n",
    "from dotenv import load_dotenv\n",
    "import requests\n",
    "from bs4 import BeautifulSoup\n",
    "\n",
    "load_dotenv()\n",
    "client = OpenAI()\n",
    "pc = Pinecone(api_key=os.getenv('PINECONE_DEFAULT_API_KEY'))"
   ]
  },
  {
   "cell_type": "code",
   "execution_count": 45,
   "id": "0b6a6c3c-ae4f-4eca-b5c4-c5b7ca638875",
   "metadata": {},
   "outputs": [],
   "source": [
    "# Create pinecone index if it doesn't exist\n",
    "index_name = 'needle-earnings-transcripts'\n",
    "if not pc.has_index(index_name):\n",
    "    print(\"Index not found, creating new\")\n",
    "    pc.create_index(\n",
    "        name=index_name,\n",
    "        vector_type=\"dense\",\n",
    "        dimension=1536,\n",
    "        metric=\"cosine\",\n",
    "        spec=ServerlessSpec(\n",
    "            cloud=\"aws\",\n",
    "            region=\"us-east-1\"\n",
    "        ),\n",
    "        deletion_protection=\"disabled\",\n",
    "        tags={\n",
    "            \"environment\": \"development\"\n",
    "        }\n",
    "    )\n",
    "index = pc.Index(host=\"https://needle-earnings-transcripts-e38g0na.svc.aped-4627-b74a.pinecone.io\")"
   ]
  },
  {
   "cell_type": "code",
   "execution_count": 58,
   "id": "bf505dfc-9c2d-4d22-a5dc-b893a87224dd",
   "metadata": {},
   "outputs": [],
   "source": [
    "def extract_text(url):\n",
    "    res = requests.get(url)\n",
    "    soup = BeautifulSoup(res.text, 'html.parser')\n",
    "    date = soup.find('span', id='date').text\n",
    "    div = soup.find('div', class_=\"article-body\")\n",
    "    eles = div.find('h2', string='Prepared Remarks:').find_next_siblings(\"p\")\n",
    "    full_text = ' '.join([e.text for e in eles])\n",
    "    return full_text, date\n",
    "\n",
    "def chunk_text(text, chunk_size=500):\n",
    "    words = text.split()\n",
    "    chunks = []\n",
    "    for i in range(0, len(words := text.split()), chunk_size):\n",
    "        chunk =  ' '.join(words[i:i+chunk_size])\n",
    "        chunks.append(chunk)\n",
    "    return chunks\n",
    "\n",
    "def get_embedding(text):\n",
    "    response = client.embeddings.create(\n",
    "        input=text,\n",
    "        model=\"text-embedding-3-small\"\n",
    "    )\n",
    "    return response.data[0].embedding\n",
    "\n",
    "def embed_and_upsert(chunks, index, url, company, ticker, quarter, year, date):\n",
    "    for i, c in enumerate(chunks, 0):\n",
    "        metadata = {\n",
    "            \"company\": company.capitalize(),\n",
    "            \"symbol\": ticker.upper(),\n",
    "            \"date\": date,\n",
    "            \"year\": year,\n",
    "            \"quarter\": quarter,\n",
    "            \"document\": \"Earnings Transcript\",\n",
    "            \"url\": url,\n",
    "            \"snippet\": c[:200]\n",
    "        }\n",
    "        embedding = get_embedding(c)\n",
    "        index.upsert([\n",
    "            (f\"{company}-earnings-transcript-{year}Q{quarter}-chunk-{i}\", embedding, metadata)\n",
    "        ])\n",
    "\n",
    "def format_date(s):\n",
    "    date_obj = datetime.strptime(s, \"%b %d, %Y\")\n",
    "    return date_obj.strftime(\"%m-%d-%Y\")\n",
    "\n",
    "def parse_url(url):\n",
    "    URL_REGEX = r'call-transcripts\\/\\d{4}\\/\\d{2}\\/\\d{2}\\/(\\w+)-(\\w+)-q(\\d)-(\\d{4})'\n",
    "    res = re.findall(URL_REGEX, url)[0]\n",
    "    return res\n",
    "\n",
    "def extract_and_upsert(url, index):\n",
    "    t, date = extract_text(url)\n",
    "    chunks = chunk_text(t)\n",
    "    company_name, ticker, quarter, year = parse_url(url)\n",
    "    embed_and_upsert(chunks, index, url, company_name, ticker, quarter, year, format_date(date))"
   ]
  },
  {
   "cell_type": "code",
   "execution_count": 59,
   "id": "6a9e9194-456f-4ee6-892e-448cf301e08c",
   "metadata": {},
   "outputs": [],
   "source": [
    "# Begin here!\n",
    "extract_and_upsert(\n",
    "    'https://www.fool.com/earnings/call-transcripts/2024/07/24/tesla-tsla-q2-2024-earnings-call-transcript/',\n",
    "    index\n",
    ")"
   ]
  },
  {
   "cell_type": "code",
   "execution_count": null,
   "id": "32a7e522-6149-40d9-bf63-7269da94c58f",
   "metadata": {},
   "outputs": [],
   "source": [
    "\"\"\"\n",
    "Already pulled\n",
    "    'https://www.fool.com/earnings/call-transcripts/2024/10/23/tesla-tsla-q3-2024-earnings-call-transcript/',\n",
    "    'https://www.fool.com/earnings/call-transcripts/2025/02/05/alphabet-goog-q4-2024-earnings-call-transcript/',\n",
    "    'https://www.fool.com/earnings/call-transcripts/2025/01/30/apple-aapl-q1-2025-earnings-call-transcript/'\n",
    "\"\"\""
   ]
  },
  {
   "cell_type": "code",
   "execution_count": 63,
   "id": "b96d6354-554a-43cf-a412-aac0ad66d0ad",
   "metadata": {},
   "outputs": [
    {
     "name": "stdout",
     "output_type": "stream",
     "text": [
      "Upserted apple earnings from 2024Q4.\n",
      "Upserted apple earnings from 2023Q1.\n",
      "Upserted apple earnings from 2022Q4.\n",
      "Upserted apple earnings from 2022Q3.\n",
      "Upserted apple earnings from 2020Q3.\n"
     ]
    }
   ],
   "source": [
    "for u in [\n",
    "    'https://www.fool.com/earnings/call-transcripts/2024/10/31/apple-aapl-q4-2024-earnings-call-transcript/',\n",
    "    'https://www.fool.com/earnings/call-transcripts/2023/02/02/apple-aapl-q1-2023-earnings-call-transcript/',\n",
    "    'https://www.fool.com/earnings/call-transcripts/2022/10/27/apple-aapl-q4-2022-earnings-call-transcript/',\n",
    "    'https://www.fool.com/earnings/call-transcripts/2022/07/28/apple-aapl-q3-2022-earnings-call-transcript/',\n",
    "    'https://www.fool.com/earnings/call-transcripts/2020/07/31/apple-aapl-q3-2020-earnings-call-transcript.aspx'\n",
    "]:\n",
    "    name, _, q, y = parse_url(u) \n",
    "    extract_and_upsert(u, index)\n",
    "    print(f\"Upserted {name.capitalize()} earnings from {y}Q{q}.\")"
   ]
  },
  {
   "cell_type": "code",
   "execution_count": 36,
   "id": "5cf0cb5f-b6cf-4b29-b1b9-66b0ecf7aede",
   "metadata": {},
   "outputs": [],
   "source": [
    "# url = 'https://www.fool.com/earnings/call-transcripts/2025/01/30/apple-aapl-q1-2025-earnings-call-transcript/'\n",
    "# url = 'https://www.fool.com/earnings/call-transcripts/2025/02/05/alphabet-goog-q4-2024-earnings-call-transcript/'\n",
    "url = 'https://www.fool.com/earnings/call-transcripts/2024/10/23/tesla-tsla-q3-2024-earnings-call-transcript/'\n",
    "t = extract_text(url)\n",
    "chunks = chunk_text(t)"
   ]
  },
  {
   "cell_type": "code",
   "execution_count": 37,
   "id": "0746ef7e-8d1b-47e4-93d2-b15a87851006",
   "metadata": {},
   "outputs": [
    {
     "name": "stdout",
     "output_type": "stream",
     "text": [
      "20\n"
     ]
    },
    {
     "data": {
      "text/plain": [
       "\"Travis Axelrod -- Head of Investor Relations Good afternoon, everyone, and welcome to Tesla's fourth quarter 2024 q&a webcast. My name is Travis Axelrod, the here at Tesla. And I'm joined today by Elon Musk and Vaibhav Taneja and a number of other executives. Our Q4 results were announced at about 3:00 p.m. Central Time in the update deck we published at the same link as this webcast. During this call, we will discuss our business outlook and make forward-looking statements. These comments are based on predictions and expectations as of today. Actual events or results could differ materially due to a number of risks and uncertainties, including those mentioned in our most recent filings with the SEC. During the question-and-answer portion of today's call, please limit yourself to one question and one follow-up. [Operator instructions] Before we jump into Q&A, Elon has some opening remarks. Elon? Elon Reeve Musk -- Chief Executive Officer and Product Architect Thank you. So, in summary, in Q4, we set record and delivered vehicles at an annualized rate of nearly 2 million a year. So, congratulations to the Tesla team on excellent work, achieving record production and deliveries. Model Y was the best-selling vehicle of any kind for 2024. That's worth noting. Not just the best electric vehicle, the best vehicle of any kind on Earth, No. 1 was Model Y. We are staying focused on maximizing volumes and obviously doubling down -- I don't know what -- really, I was going to say doubling down in autonomy, but really, it's like autonomy is like 10x-ing frankly. Doubling is not even enough. We made many critical investments in 2024 in manufacturing, AI and robotics that will bear immense fruit in the future, immense. Like it's, in fact, to such a scale that it is difficult to comprehend. And I've said this before and I'll stand by it. I see a path. I'm not saying it's an easy path but I see a path of Tesla being the most valuable company in the world by far. Not even close, like maybe several times more than -- I mean, there is a path where Tesla is worth more than the next top five companies combined. There's a path to that. I mean, I think it's like and incredibly it's like a difficult path but it is an achievable path. And that is overwhelmingly due to autonomous vehicles and autonomous humanoid robots. So, our focus is actually building toward that. And then that's where we're laying the ground. We laid the groundwork for that in 2024. We'll continue to lay the groundwork for that in 2025. In fact, more than laying the groundwork, actually started building the structure. We're building the manufacturing lines. And I'd like -- setting up for what I think will be an epic 2026 and a ridiculous '27 and '28, ridiculously good. That is my prediction. As you very few people understand the value of self-driving and our ability to monetize the fleet.\""
      ]
     },
     "execution_count": 37,
     "metadata": {},
     "output_type": "execute_result"
    }
   ],
   "source": [
    "print(len(chunks))\n",
    "chunks[0]"
   ]
  },
  {
   "cell_type": "code",
   "execution_count": 38,
   "id": "73a1f937-1c92-4b69-bc39-7d63462abcee",
   "metadata": {},
   "outputs": [
    {
     "data": {
      "text/plain": [
       "{'upserted_count': 1}"
      ]
     },
     "execution_count": 38,
     "metadata": {},
     "output_type": "execute_result"
    }
   ],
   "source": [
    "metadata = {\n",
    "    \"company\": \"Apple\",\n",
    "    \"year\": 2025,\n",
    "    \"quarter\": 1,\n",
    "    \"document\": \"Earnings Transcript\",\n",
    "    \"url\": url,\n",
    "    \"snippet\": chunks[0][:200]\n",
    "}\n",
    "index.upsert([\n",
    "    (\"apple-earnings-transcript-Q1-chunk-0\", embedding, metadata)\n",
    "])"
   ]
  },
  {
   "cell_type": "code",
   "execution_count": 64,
   "id": "713e83e2-7117-4327-9920-5a6529c29f15",
   "metadata": {},
   "outputs": [
    {
     "name": "stdout",
     "output_type": "stream",
     "text": [
      "{'matches': [{'id': 'apple-earnings-transcript-2023Q1-chunk-14',\n",
      "              'metadata': {'company': 'Apple',\n",
      "                           'date': '02-02-2023',\n",
      "                           'document': 'Earnings Transcript',\n",
      "                           'quarter': '1',\n",
      "                           'snippet': '-- the iPhone has become so integral '\n",
      "                                      \"into people's lives. It contains their \"\n",
      "                                      'contacts and their health information '\n",
      "                                      'and their banking information and their '\n",
      "                                      'smart home and so many different parts '\n",
      "                                      'of thei',\n",
      "                           'symbol': 'AAPL',\n",
      "                           'url': 'https://www.fool.com/earnings/call-transcripts/2023/02/02/apple-aapl-q1-2023-earnings-call-transcript/',\n",
      "                           'year': '2023'},\n",
      "              'score': 0.295121133,\n",
      "              'values': []},\n",
      "             {'id': 'apple-earnings-transcript-2020Q3-chunk-13',\n",
      "              'metadata': {'company': 'Apple',\n",
      "                           'date': '07-30-2020',\n",
      "                           'document': 'Earnings Transcript',\n",
      "                           'quarter': '3',\n",
      "                           'snippet': 'costs have outweighed the savings both '\n",
      "                                      'during the March and the June quarter, '\n",
      "                                      \"but we think it's absolutely the right \"\n",
      "                                      'thing to do. From an employee '\n",
      "                                      'perspective, what we said so far is '\n",
      "                                      'that here in the ',\n",
      "                           'symbol': 'AAPL',\n",
      "                           'url': 'https://www.fool.com/earnings/call-transcripts/2020/07/31/apple-aapl-q3-2020-earnings-call-transcript.aspx',\n",
      "                           'year': '2020'},\n",
      "              'score': 0.260346711,\n",
      "              'values': []},\n",
      "             {'id': 'apple-earnings-transcript-2022Q3-chunk-15',\n",
      "              'metadata': {'company': 'Apple',\n",
      "                           'date': '07-28-2022',\n",
      "                           'document': 'Earnings Transcript',\n",
      "                           'quarter': '3',\n",
      "                           'snippet': 'are a bit outside of our control and we '\n",
      "                                      'need to be mindful of that. One of them '\n",
      "                                      'is the foreign exchange environment. '\n",
      "                                      'That is having an impact already for '\n",
      "                                      'the September quarter, had an impact on '\n",
      "                                      'June. ',\n",
      "                           'symbol': 'AAPL',\n",
      "                           'url': 'https://www.fool.com/earnings/call-transcripts/2022/07/28/apple-aapl-q3-2022-earnings-call-transcript/',\n",
      "                           'year': '2022'},\n",
      "              'score': 0.24962467,\n",
      "              'values': []}],\n",
      " 'namespace': '',\n",
      " 'usage': {'read_units': 6}}\n"
     ]
    }
   ],
   "source": [
    "query = \"pandemic issues\"\n",
    "query_embedding = get_embedding(query)\n",
    "\n",
    "result = index.query(\n",
    "    vector=query_embedding,\n",
    "    top_k=3,\n",
    "    include_metadata=True,\n",
    "    include_values=False\n",
    ")\n",
    "print(result)"
   ]
  },
  {
   "cell_type": "code",
   "execution_count": 27,
   "id": "b5b0ec9c-dcf2-437a-8587-78c34fdcdeb0",
   "metadata": {},
   "outputs": [
    {
     "name": "stdout",
     "output_type": "stream",
     "text": [
      "['apple-earnings-transcript-2025Q1-chunk-0', 'apple-earnings-transcript-2025Q1-chunk-1', 'apple-earnings-transcript-2025Q1-chunk-10', 'apple-earnings-transcript-2025Q1-chunk-11', 'apple-earnings-transcript-2025Q1-chunk-12', 'apple-earnings-transcript-2025Q1-chunk-13', 'apple-earnings-transcript-2025Q1-chunk-14', 'apple-earnings-transcript-2025Q1-chunk-15', 'apple-earnings-transcript-2025Q1-chunk-16', 'apple-earnings-transcript-2025Q1-chunk-2', 'apple-earnings-transcript-2025Q1-chunk-3', 'apple-earnings-transcript-2025Q1-chunk-4', 'apple-earnings-transcript-2025Q1-chunk-5', 'apple-earnings-transcript-2025Q1-chunk-6', 'apple-earnings-transcript-2025Q1-chunk-7', 'apple-earnings-transcript-2025Q1-chunk-8', 'apple-earnings-transcript-2025Q1-chunk-9', 'apple-earnings-transcript-Q1-chunk-0', 'apple-earnings-transcript-Q1-chunk-1', 'apple-earnings-transcript-Q1-chunk-10', 'apple-earnings-transcript-Q1-chunk-11', 'apple-earnings-transcript-Q1-chunk-12', 'apple-earnings-transcript-Q1-chunk-13', 'apple-earnings-transcript-Q1-chunk-14', 'apple-earnings-transcript-Q1-chunk-15', 'apple-earnings-transcript-Q1-chunk-16', 'apple-earnings-transcript-Q1-chunk-17', 'apple-earnings-transcript-Q1-chunk-18', 'apple-earnings-transcript-Q1-chunk-2', 'apple-earnings-transcript-Q1-chunk-3', 'apple-earnings-transcript-Q1-chunk-4', 'apple-earnings-transcript-Q1-chunk-5', 'apple-earnings-transcript-Q1-chunk-6', 'apple-earnings-transcript-Q1-chunk-7', 'apple-earnings-transcript-Q1-chunk-8', 'apple-earnings-transcript-Q1-chunk-9', 'google-earnings-transcript-2024Q4-chunk-0', 'google-earnings-transcript-2024Q4-chunk-1', 'google-earnings-transcript-2024Q4-chunk-10', 'google-earnings-transcript-2024Q4-chunk-11', 'google-earnings-transcript-2024Q4-chunk-12', 'google-earnings-transcript-2024Q4-chunk-13', 'google-earnings-transcript-2024Q4-chunk-14', 'google-earnings-transcript-2024Q4-chunk-15', 'google-earnings-transcript-2024Q4-chunk-16', 'google-earnings-transcript-2024Q4-chunk-17', 'google-earnings-transcript-2024Q4-chunk-2', 'google-earnings-transcript-2024Q4-chunk-3', 'google-earnings-transcript-2024Q4-chunk-4', 'google-earnings-transcript-2024Q4-chunk-5', 'google-earnings-transcript-2024Q4-chunk-6', 'google-earnings-transcript-2024Q4-chunk-7', 'google-earnings-transcript-2024Q4-chunk-8', 'google-earnings-transcript-2024Q4-chunk-9', 'meta-earnings-transcript-2024Q4-chunk-0', 'meta-earnings-transcript-2024Q4-chunk-1', 'meta-earnings-transcript-2024Q4-chunk-10', 'meta-earnings-transcript-2024Q4-chunk-11', 'meta-earnings-transcript-2024Q4-chunk-12', 'meta-earnings-transcript-2024Q4-chunk-13', 'meta-earnings-transcript-2024Q4-chunk-14', 'meta-earnings-transcript-2024Q4-chunk-15', 'meta-earnings-transcript-2024Q4-chunk-16', 'meta-earnings-transcript-2024Q4-chunk-17', 'meta-earnings-transcript-2024Q4-chunk-18', 'meta-earnings-transcript-2024Q4-chunk-19', 'meta-earnings-transcript-2024Q4-chunk-2', 'meta-earnings-transcript-2024Q4-chunk-3', 'meta-earnings-transcript-2024Q4-chunk-4', 'meta-earnings-transcript-2024Q4-chunk-5', 'meta-earnings-transcript-2024Q4-chunk-6', 'meta-earnings-transcript-2024Q4-chunk-7', 'meta-earnings-transcript-2024Q4-chunk-8', 'meta-earnings-transcript-2024Q4-chunk-9']\n"
     ]
    }
   ],
   "source": [
    "for ids in index.list():\n",
    "    print(ids)"
   ]
  },
  {
   "cell_type": "code",
   "execution_count": 28,
   "id": "d7853481-1a3c-4113-8c4c-21329eb6792c",
   "metadata": {},
   "outputs": [
    {
     "data": {
      "text/plain": [
       "{}"
      ]
     },
     "execution_count": 28,
     "metadata": {},
     "output_type": "execute_result"
    }
   ],
   "source": [
    "ids_to_delete = ['apple-earnings-transcript-Q1-chunk-0', 'apple-earnings-transcript-Q1-chunk-1', 'apple-earnings-transcript-Q1-chunk-10', 'apple-earnings-transcript-Q1-chunk-11', 'apple-earnings-transcript-Q1-chunk-12', 'apple-earnings-transcript-Q1-chunk-13', 'apple-earnings-transcript-Q1-chunk-14', 'apple-earnings-transcript-Q1-chunk-15', 'apple-earnings-transcript-Q1-chunk-16', 'apple-earnings-transcript-Q1-chunk-17', 'apple-earnings-transcript-Q1-chunk-18', 'apple-earnings-transcript-Q1-chunk-2', 'apple-earnings-transcript-Q1-chunk-3', 'apple-earnings-transcript-Q1-chunk-4', 'apple-earnings-transcript-Q1-chunk-5', 'apple-earnings-transcript-Q1-chunk-6', 'apple-earnings-transcript-Q1-chunk-7', 'apple-earnings-transcript-Q1-chunk-8', 'apple-earnings-transcript-Q1-chunk-9']\n",
    "index.delete(ids_to_delete)\n"
   ]
  },
  {
   "cell_type": "code",
   "execution_count": 57,
   "id": "6cfc0b08-416a-486e-a18e-432c61a6e8d5",
   "metadata": {},
   "outputs": [
    {
     "data": {
      "text/plain": [
       "{}"
      ]
     },
     "execution_count": 57,
     "metadata": {},
     "output_type": "execute_result"
    }
   ],
   "source": [
    "index.delete(delete_all=True)"
   ]
  },
  {
   "cell_type": "code",
   "execution_count": null,
   "id": "f39409e0-39cf-4c5f-ab00-071662f29669",
   "metadata": {},
   "outputs": [],
   "source": []
  }
 ],
 "metadata": {
  "kernelspec": {
   "display_name": "Python 3 (ipykernel)",
   "language": "python",
   "name": "python3"
  },
  "language_info": {
   "codemirror_mode": {
    "name": "ipython",
    "version": 3
   },
   "file_extension": ".py",
   "mimetype": "text/x-python",
   "name": "python",
   "nbconvert_exporter": "python",
   "pygments_lexer": "ipython3",
   "version": "3.11.10"
  }
 },
 "nbformat": 4,
 "nbformat_minor": 5
}
